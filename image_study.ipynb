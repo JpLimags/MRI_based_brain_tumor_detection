{
 "cells": [
  {
   "cell_type": "code",
   "execution_count": 11,
   "metadata": {},
   "outputs": [
    {
     "name": "stdout",
     "output_type": "stream",
     "text": [
      "Looking in indexes: https://pypi.org/simple, https://****@global.tfs.landisgyr.net/tfs/DefaultCollection_Brazil/Tools/_packaging/pyLandisLibs/pypi/simple/\n",
      "Requirement already satisfied: opencv-python in c:\\users\\pedroj\\appdata\\local\\programs\\python\\python313\\lib\\site-packages (4.10.0.84)\n",
      "Requirement already satisfied: numpy>=1.21.2 in c:\\users\\pedroj\\appdata\\local\\programs\\python\\python313\\lib\\site-packages (from opencv-python) (2.2.0)\n",
      "Note: you may need to restart the kernel to use updated packages.\n"
     ]
    }
   ],
   "source": [
    "pip install opencv-python"
   ]
  },
  {
   "cell_type": "code",
   "execution_count": null,
   "metadata": {},
   "outputs": [],
   "source": [
    "import os\n",
    "from PIL import Image, ImageOps"
   ]
  },
  {
   "cell_type": "code",
   "execution_count": null,
   "metadata": {},
   "outputs": [],
   "source": [
    "dataset_dir = \"dataset\"  \n",
    "output_dir = \"dataset_augmented\"  \n",
    "\n",
    "os.makedirs(output_dir, exist_ok=True)"
   ]
  },
  {
   "cell_type": "code",
   "execution_count": null,
   "metadata": {},
   "outputs": [],
   "source": [
    "def process_images(input_dir, output_dir):\n",
    "\n",
    "    for class_name in os.listdir(input_dir):\n",
    "        class_path = os.path.join(input_dir, class_name)\n",
    "        if os.path.isdir(class_path):  \n",
    "            output_class_dir = os.path.join(output_dir, class_name)\n",
    "            os.makedirs(output_class_dir, exist_ok=True)\n",
    "\n",
    "            for filename in os.listdir(class_path):\n",
    "                if filename.endswith((\".png\", \".jpg\", \".jpeg\")):\n",
    "                    image_path = os.path.join(class_path, filename)\n",
    "\n",
    "                    img = Image.open(image_path)\n",
    "                    img_resized = img.resize((80, 80))\n",
    "\n",
    "                    img_resized.save(os.path.join(output_class_dir, filename))  # Salva com o mesmo nome original\n",
    "\n",
    "                    img_rotated = img_resized.rotate(90, expand=True)\n",
    "                    img_rotated.save(os.path.join(output_class_dir, f\"rotated_{filename}\"))\n",
    "\n",
    "                    img_flipped = ImageOps.flip(img_resized)\n",
    "                    img_flipped.save(os.path.join(output_class_dir, f\"flipped_{filename}\"))\n"
   ]
  },
  {
   "cell_type": "code",
   "execution_count": 9,
   "metadata": {},
   "outputs": [],
   "source": [
    "process_images(os.path.join(dataset_dir, \"Training\"), os.path.join(output_dir, \"Training\"))\n",
    "process_images(os.path.join(dataset_dir, \"Testing\"), os.path.join(output_dir, \"Testing\"))"
   ]
  }
 ],
 "metadata": {
  "kernelspec": {
   "display_name": "base",
   "language": "python",
   "name": "python3"
  },
  "language_info": {
   "codemirror_mode": {
    "name": "ipython",
    "version": 3
   },
   "file_extension": ".py",
   "mimetype": "text/x-python",
   "name": "python",
   "nbconvert_exporter": "python",
   "pygments_lexer": "ipython3",
   "version": "3.11.5"
  }
 },
 "nbformat": 4,
 "nbformat_minor": 2
}
